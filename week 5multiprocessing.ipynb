{
 "cells": [
  {
   "cell_type": "markdown",
   "id": "fb1f840d-ee69-448d-b082-a85d3035dd49",
   "metadata": {},
   "source": [
    "Ans1) Multiprocessing in Python is a built-in package that allows the system to run multiple processes simultaneously. It will enable the breaking of applications into smaller threads that can run independently.\n",
    "\n",
    "It is useful:-\n",
    "\n",
    "i) By utilizing multiple processors or cores, multiprocessing can significantly enhance the performance of an application. It allows for parallel execution of tasks, enabling the program to handle more work simultaneously and potentially reduce the overall execution time.\n",
    "\n",
    "ii)It enables better utilization of system resources, as multiple processes or threads can be allocated to separate cores or processors, effectively utilizing the available computing power."
   ]
  },
  {
   "cell_type": "markdown",
   "id": "6c9b9568-d194-4e6d-af66-1ab493f11cf4",
   "metadata": {},
   "source": [
    "Ans2) The main differences between multiprocessing and multithreading:-\n",
    "\n",
    "i) Multiprocessing involves the execution of multiple processes, where each process runs independently and has its own memory space. Processes can communicate with each other using inter-process communication mechanisms.\n",
    "\n",
    "Multithreading involves the execution of multiple threads within a single process. Threads share the same memory space and can directly access the variables and data of the process they belong to.\n",
    "\n",
    "ii)Each process in multiprocessing typically has its own dedicated resources, such as memory space, file handles, and CPU time. The operating system manages the resources for each process separately.\n",
    "\n",
    "Threads within a process share the same resources, including memory space, file handles, and CPU time. They can access shared data directly, which can lead to synchronization issues that need to be carefully managed\n",
    "\n",
    "iii)Processes communicate with each other using inter-process communication (IPC) mechanisms such as pipes, shared memory, or message queues. Synchronization between processes often requires explicit coordination using tools like locks, semaphores, or events.\n",
    "\n",
    "Threads within a process can communicate with each other more easily since they share the same memory space. However, shared data access needs to be synchronized to avoid race conditions and ensure data consistency. This can be achieved using synchronization primitives like locks, mutexes, and condition variables."
   ]
  },
  {
   "cell_type": "code",
   "execution_count": 1,
   "id": "32a56b15-f053-45a3-8648-ce2193507104",
   "metadata": {},
   "outputs": [
    {
     "name": "stdout",
     "output_type": "stream",
     "text": [
      "The square of 10 is 100\n",
      "Process completed.\n"
     ]
    }
   ],
   "source": [
    "#Ans3) Here's is the code to create a process using the multiprocessing module\n",
    "import multiprocessing\n",
    "\n",
    "def square(number):\n",
    "    result = number * number\n",
    "    print(f\"The square of {number} is {result}\")\n",
    "\n",
    "if __name__ == \"__main__\":\n",
    "    process = multiprocessing.Process(target=square, args=(10,))\n",
    "\n",
    "    process.start()\n",
    "\n",
    "    process.join()\n",
    "\n",
    "    print(\"Process completed.\")"
   ]
  },
  {
   "cell_type": "markdown",
   "id": "0dde0502-27ae-49ef-873f-ef604c3013ae",
   "metadata": {},
   "source": [
    "Ans4) A multiprocessing pool allows us to create a pool of worker processes that can execute tasks concurrently.We can submit multiple tasks to the pool, and the pool will distribute them among the available worker processes. Each worker process executes the tasks independently, allowing for parallel processing and potentially speeding up the overall execution time.\n",
    "\n",
    "The multiprocessing pool is especially useful when we have CPU-intensive or time-consuming tasks that can be executed independently of each other. By utilizing multiple processes, we can take advantage of multi-core processors and perform computations in parallel, thereby improving the overall performance and reducing the time taken to complete the tasks."
   ]
  },
  {
   "cell_type": "code",
   "execution_count": 2,
   "id": "e5b35f34-8651-40a1-b8f8-af7ccc0df23d",
   "metadata": {},
   "outputs": [
    {
     "name": "stdout",
     "output_type": "stream",
     "text": [
      "[1, 4, 9, 16, 25, 36, 49, 64, 81, 100]\n"
     ]
    }
   ],
   "source": [
    "#Ans5)Here's the example that how we can create a ppol of worker processes in python using the multiprocessing module:-\n",
    "from multiprocessing import Pool\n",
    "\n",
    "def square(x):\n",
    "    return x ** 2\n",
    "\n",
    "if __name__ == '__main__':\n",
    "    with Pool(processes=4) as pool:\n",
    "        results = pool.map(square, range(1, 11))\n",
    "\n",
    "    print(results)"
   ]
  },
  {
   "cell_type": "code",
   "execution_count": 3,
   "id": "ddb0a656-1b47-479b-a276-f5a224c9c44c",
   "metadata": {},
   "outputs": [
    {
     "name": "stdout",
     "output_type": "stream",
     "text": [
      "Process 1: 1\n",
      "Process 2: 2\n",
      "Process 3: 3\n",
      "Process 4: 4\n"
     ]
    }
   ],
   "source": [
    "#Ans6) \n",
    "import multiprocessing\n",
    "\n",
    "def print_number(number):\n",
    "    print(f\"Process {number}: {number}\")\n",
    "\n",
    "if __name__ == '__main__':\n",
    "    processes = []\n",
    "    \n",
    "    for i in range(1, 5):\n",
    "        p = multiprocessing.Process(target=print_number, args=(i,))\n",
    "        processes.append(p)\n",
    "        p.start()\n",
    "    \n",
    "    for p in processes:\n",
    "        p.join()"
   ]
  },
  {
   "cell_type": "code",
   "execution_count": null,
   "id": "a48f1061-a0f3-4a70-98fc-c94b97c1fe36",
   "metadata": {},
   "outputs": [],
   "source": []
  }
 ],
 "metadata": {
  "kernelspec": {
   "display_name": "Python 3 (ipykernel)",
   "language": "python",
   "name": "python3"
  },
  "language_info": {
   "codemirror_mode": {
    "name": "ipython",
    "version": 3
   },
   "file_extension": ".py",
   "mimetype": "text/x-python",
   "name": "python",
   "nbconvert_exporter": "python",
   "pygments_lexer": "ipython3",
   "version": "3.10.8"
  }
 },
 "nbformat": 4,
 "nbformat_minor": 5
}
